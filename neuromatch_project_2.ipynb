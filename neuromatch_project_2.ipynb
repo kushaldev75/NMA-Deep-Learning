{
 "cells": [
  {
   "cell_type": "markdown",
   "metadata": {},
   "source": [
    "# Training"
   ]
  },
  {
   "cell_type": "code",
   "execution_count": null,
   "metadata": {
    "colab": {
     "base_uri": "https://localhost:8080/"
    },
    "id": "85qCYBWV3h0q",
    "outputId": "6f01ed45-d5df-48e7-e054-ad8f2c9642bb"
   },
   "outputs": [
    {
     "name": "stdout",
     "output_type": "stream",
     "text": [
      "Mounted at /content/gdrive\n",
      "/content/gdrive/MyDrive/neuromatch\n",
      "Brain-Tumor-Classification-DataSet  results_vgg11_2linearlayers\n",
      "checkpoint_vgg11_2linearlayers\n"
     ]
    }
   ],
   "source": [
    "from google.colab import drive\n",
    "drive.mount('/content/gdrive')\n",
    "%cd /content/gdrive/MyDrive/neuromatch/\n",
    "!ls"
   ]
  },
  {
   "cell_type": "code",
   "execution_count": null,
   "metadata": {
    "colab": {
     "base_uri": "https://localhost:8080/"
    },
    "id": "taI0Aubm3_FS",
    "outputId": "a498f195-c33e-429c-f29f-4642cbb17970"
   },
   "outputs": [
    {
     "name": "stdout",
     "output_type": "stream",
     "text": [
      "Brain-Tumor-Classification-DataSet  results_vgg11_2linearlayers\n",
      "checkpoint_vgg11_2linearlayers\n"
     ]
    }
   ],
   "source": [
    "!ls"
   ]
  },
  {
   "cell_type": "code",
   "execution_count": null,
   "metadata": {
    "colab": {
     "base_uri": "https://localhost:8080/"
    },
    "id": "Yno3CdrxP0NM",
    "outputId": "a8f3a882-4deb-45e1-9401-a1215090ada2"
   },
   "outputs": [
    {
     "name": "stdout",
     "output_type": "stream",
     "text": [
      "Collecting torchinfo\n",
      "  Downloading torchinfo-1.5.3-py3-none-any.whl (19 kB)\n",
      "Installing collected packages: torchinfo\n",
      "Successfully installed torchinfo-1.5.3\n"
     ]
    }
   ],
   "source": [
    "!pip install torchinfo"
   ]
  },
  {
   "cell_type": "markdown",
   "metadata": {
    "id": "pBfTFTHKDpgQ"
   },
   "source": [
    "# Setup"
   ]
  },
  {
   "cell_type": "code",
   "execution_count": null,
   "metadata": {
    "id": "r7VrzWF_DpDj"
   },
   "outputs": [],
   "source": [
    "# imports\n",
    "import os\n",
    "import gc\n",
    "import csv\n",
    "import glob\n",
    "import torch\n",
    "import multiprocessing\n",
    "\n",
    "import numpy as np\n",
    "import pandas as pd\n",
    "import torch.nn as nn\n",
    "import matplotlib.pyplot as plt\n",
    "\n",
    "import torch.optim as optim\n",
    "import torch.nn.functional as F\n",
    "import torch.backends.cudnn as cudnn\n",
    "from torch.autograd import Variable\n",
    "\n",
    "import torchvision\n",
    "import torchvision.transforms as transforms\n",
    "from torchvision.utils import make_grid\n",
    "from torchvision.models import resnet18, vgg16, vgg19, vgg19_bn\n",
    "from torchinfo import summary\n",
    "import PIL"
   ]
  },
  {
   "cell_type": "code",
   "execution_count": null,
   "metadata": {
    "id": "DEuzjsB85GgE"
   },
   "outputs": [],
   "source": [
    "#!nvidia-smi"
   ]
  },
  {
   "cell_type": "markdown",
   "metadata": {
    "id": "noZrAK08tJ_v"
   },
   "source": [
    "##  Set random seed\n"
   ]
  },
  {
   "cell_type": "markdown",
   "metadata": {
    "id": "eyE5B66QtJ_v"
   },
   "source": [
    " Executing `set_seed(seed=seed)` you are setting the seed\n"
   ]
  },
  {
   "cell_type": "code",
   "execution_count": null,
   "metadata": {
    "cellView": "form",
    "execution": {},
    "id": "1I28MpyVtJ_w",
    "tags": [
     "hide-input"
    ]
   },
   "outputs": [],
   "source": [
    "# @title Set random seed\n",
    "\n",
    "# @markdown Executing `set_seed(seed=seed)` you are setting the seed\n",
    "\n",
    "# for DL its critical to set the random seed so that students can have a\n",
    "# baseline to compare their results to expected results.\n",
    "# Read more here: https://pytorch.org/docs/stable/notes/randomness.html\n",
    "\n",
    "# Call `set_seed` function in the exercises to ensure reproducibility.\n",
    "import random\n",
    "import torch\n",
    "\n",
    "def set_seed(seed=None, seed_torch=True):\n",
    "  if seed is None:\n",
    "    seed = np.random.choice(2 ** 32)\n",
    "  random.seed(seed)\n",
    "  np.random.seed(seed)\n",
    "  if seed_torch:\n",
    "    torch.manual_seed(seed)\n",
    "    torch.cuda.manual_seed_all(seed)\n",
    "    torch.cuda.manual_seed(seed)\n",
    "    torch.backends.cudnn.benchmark = False\n",
    "    torch.backends.cudnn.deterministic = True\n",
    "\n",
    "  print(f'Random seed {seed} has been set.')\n",
    "\n",
    "# In case that `DataLoader` is used\n",
    "def seed_worker(worker_id):\n",
    "  worker_seed = torch.initial_seed() % 2**32\n",
    "  np.random.seed(worker_seed)\n",
    "  random.seed(worker_seed)"
   ]
  },
  {
   "cell_type": "markdown",
   "metadata": {
    "id": "OwoqEHIJtJ_x"
   },
   "source": [
    "##  Set device (GPU or CPU)\n"
   ]
  },
  {
   "cell_type": "code",
   "execution_count": null,
   "metadata": {
    "cellView": "form",
    "execution": {},
    "id": "dHPz4A_6tJ_y",
    "tags": [
     "hide-input"
    ]
   },
   "outputs": [],
   "source": [
    "# @title Set device (GPU or CPU)\n",
    "\n",
    "# inform the user if the notebook uses GPU or CPU.\n",
    "\n",
    "def set_device():\n",
    "  device = \"cuda\" if torch.cuda.is_available() else \"cpu\"\n",
    "  if device != \"cuda\":\n",
    "    print(\"WARNING: For this notebook to perform best, \"\n",
    "        \"if possible, in the menu under `Runtime` -> \"\n",
    "        \"`Change runtime type.`  select `GPU` \")\n",
    "  else:\n",
    "    print(\"GPU is enabled in this notebook.\")\n",
    "\n",
    "  return device"
   ]
  },
  {
   "cell_type": "markdown",
   "metadata": {
    "execution": {},
    "id": "8pBkR7uLtJ_z"
   },
   "source": [
    "### Random seeds\n",
    "\n",
    "If you want to obtain reproducible results, it is a good practice to set seeds for the random number generators of the various libraries"
   ]
  },
  {
   "cell_type": "code",
   "execution_count": null,
   "metadata": {
    "colab": {
     "base_uri": "https://localhost:8080/"
    },
    "execution": {},
    "id": "pJ8_L43TtJ_z",
    "outputId": "8266654a-29f8-41c3-bec0-e5d65188dbf7"
   },
   "outputs": [
    {
     "name": "stdout",
     "output_type": "stream",
     "text": [
      "Random seed 2021 has been set.\n",
      "GPU is enabled in this notebook.\n"
     ]
    }
   ],
   "source": [
    "set_seed(seed=2021)\n",
    "device = set_device()"
   ]
  },
  {
   "cell_type": "markdown",
   "metadata": {
    "execution": {},
    "id": "SAaOVMWTtJ_0"
   },
   "source": [
    "### Training hyperparameters\n",
    "\n",
    "Here we set some general training hyperparameters such as the learning rate, batch size, etc. as well as other training options such as including data augmentation (`torchvision_transforms`)."
   ]
  },
  {
   "cell_type": "code",
   "execution_count": null,
   "metadata": {
    "execution": {},
    "id": "1dma48VptJ_1"
   },
   "outputs": [],
   "source": [
    "# Hyper-parameters\n",
    "use_cuda = torch.cuda.is_available()\n",
    "batch_size = 128\n",
    "torchvision_transforms = False  # True/False if you want use torchvision augmentations\n",
    "SIZE = (224,224)\n",
    "\n",
    "result_folder = './results/'\n",
    "if not os.path.exists(result_folder):\n",
    "    os.makedirs(result_folder)\n",
    "\n",
    "if not os.path.isdir('checkpoint'):\n",
    "      os.mkdir('checkpoint')"
   ]
  },
  {
   "cell_type": "markdown",
   "metadata": {
    "execution": {},
    "id": "uH7UQyOotJ_1"
   },
   "source": [
    "---\n",
    "# Data"
   ]
  },
  {
   "cell_type": "markdown",
   "metadata": {
    "execution": {},
    "id": "i86Kyza4tJ_1"
   },
   "source": [
    "## Source dataset\n",
    "\n",
    "We will train the model using Brain Tummor Classification data set from Kaggle, but with small tweaks we can get any other data we are interested in.\n",
    "\n",
    "Note that the data set is normalised by substracted the mean and dividing by the standard deviation (pre-computed) of the training set. Also, if `torchvision_transforms` is `True`, data augmentation will be applied during training."
   ]
  },
  {
   "cell_type": "markdown",
   "metadata": {
    "id": "0k2SjJqMtJ_2"
   },
   "source": [
    " Download and prepare Data\n"
   ]
  },
  {
   "cell_type": "code",
   "execution_count": null,
   "metadata": {
    "colab": {
     "base_uri": "https://localhost:8080/"
    },
    "id": "us2zDW31DFnS",
    "outputId": "3821b752-17ca-454a-99eb-d7386c38f3b4"
   },
   "outputs": [
    {
     "name": "stdout",
     "output_type": "stream",
     "text": [
      "fatal: destination path 'Brain-Tumor-Classification-DataSet' already exists and is not an empty directory.\n"
     ]
    }
   ],
   "source": [
    "# Download the dataset\n",
    "!git clone https://github.com/SartajBhuvaji/Brain-Tumor-Classification-DataSet.git"
   ]
  },
  {
   "cell_type": "code",
   "execution_count": null,
   "metadata": {
    "colab": {
     "base_uri": "https://localhost:8080/"
    },
    "id": "Whf6y3WTEUrV",
    "outputId": "f2ddcd2c-06da-411e-b0c7-97135d10a962"
   },
   "outputs": [
    {
     "name": "stdout",
     "output_type": "stream",
     "text": [
      "==> Preparing data..\n"
     ]
    }
   ],
   "source": [
    "print('==> Preparing data..')\n",
    "def percentageSplit(full_dataset, percent = 0.0):\n",
    "  set1_size = int(percent * len(full_dataset))\n",
    "  set2_size = len(full_dataset) - set1_size\n",
    "  final_dataset, _ = torch.utils.data.random_split(full_dataset, [set1_size, set2_size])\n",
    "  return final_dataset\n",
    "\n",
    "# ImageNet normalizing\n",
    "mean = [0.485, 0.456, 0.406]\n",
    "std = [0.229, 0.224, 0.225]\n",
    "\n",
    "# torchvision transforms\n",
    "transform_train = transforms.Compose([])\n",
    "if torchvision_transforms:\n",
    "  # transform_train.transforms.append(transforms.RandomCrop(SIZE, padding=10))\n",
    "  transform_train.transforms.append(transforms.RandomHorizontalFlip(p=0.30))\n",
    "  transform_train.transforms.append(transforms.RandomRotation(degrees=30))\n",
    "  transform_train.transforms.append(transforms.RandomAffine(degrees=(0, 0), translate=(0.1, 0)))\n",
    "  # Noise -> in dependance of the image\n",
    "  transform_train.transforms.append(transforms.RandomAutocontrast(p = 0.3))\n",
    "  # transform_train.transforms.append(transforms.GaussianBlur(kernel_size=(5, 9), sigma=(0.1, 5)))\n",
    "  #transform_train.transforms.append(transforms.AutoAugment())\n",
    "\n",
    "  # contrast #blur noise\n",
    "\n",
    "transform_train.transforms.append(transforms.Resize(SIZE))\n",
    "transform_train.transforms.append(transforms.ToTensor())\n",
    "transform_train.transforms.append(transforms.Normalize(mean, std))\n",
    "\n",
    "transform_test = transforms.Compose([\n",
    "    transforms.Resize(SIZE),\n",
    "    transforms.ToTensor(),\n",
    "    transforms.Normalize(mean, std),\n",
    "])\n",
    "\n",
    "trainset = torchvision.datasets.ImageFolder(\n",
    "  root= 'Brain-Tumor-Classification-DataSet/Training', transform=transform_train)\n",
    "\n",
    "testset = torchvision.datasets.ImageFolder(\n",
    "  root='Brain-Tumor-Classification-DataSet/Testing', transform=transform_test)"
   ]
  },
  {
   "cell_type": "code",
   "execution_count": null,
   "metadata": {
    "colab": {
     "base_uri": "https://localhost:8080/"
    },
    "id": "9wccj7_jOEkd",
    "outputId": "ed0f594f-d678-4264-fe0a-87832d2a3bd5"
   },
   "outputs": [
    {
     "name": "stdout",
     "output_type": "stream",
     "text": [
      "Train images:  2870\n",
      "Test images:  394\n",
      "['glioma_tumor', 'meningioma_tumor', 'no_tumor', 'pituitary_tumor']\n"
     ]
    }
   ],
   "source": [
    "# print the size of dataset\n",
    "print(\"Train images: \", len(trainset))\n",
    "print(\"Test images: \", len(testset))\n",
    "classes_names = trainset.classes\n",
    "print(classes_names)"
   ]
  },
  {
   "cell_type": "markdown",
   "metadata": {
    "execution": {},
    "id": "yjaRDY2xtJ_3"
   },
   "source": [
    "## Data loaders\n",
    "\n",
    "A dataloader is an optimized data iterator that provides functionality for efficient shuffling, transformation and batching of the data."
   ]
  },
  {
   "cell_type": "markdown",
   "metadata": {
    "id": "d4oX7ci_tJ_3"
   },
   "source": [
    "###  Dataloader\n"
   ]
  },
  {
   "cell_type": "code",
   "execution_count": null,
   "metadata": {
    "cellView": "form",
    "colab": {
     "base_uri": "https://localhost:8080/"
    },
    "execution": {},
    "id": "Wv30-eu_tJ_4",
    "outputId": "45b5dcf2-081d-4183-ac12-008ad2eb238e",
    "tags": [
     "hide-input"
    ]
   },
   "outputs": [
    {
     "name": "stdout",
     "output_type": "stream",
     "text": [
      "----> number of workers: 2\n"
     ]
    }
   ],
   "source": [
    "##@title Dataloader\n",
    "num_workers = multiprocessing.cpu_count()\n",
    "\n",
    "print(f'----> number of workers: {num_workers}')\n",
    "\n",
    "trainloader = torch.utils.data.DataLoader(\n",
    "    trainset, batch_size=batch_size, shuffle=True, num_workers=num_workers)\n",
    "testloader = torch.utils.data.DataLoader(\n",
    "    testset, batch_size=batch_size, shuffle=False, num_workers=num_workers)"
   ]
  },
  {
   "cell_type": "markdown",
   "metadata": {
    "id": "7T2D94bBGfeJ"
   },
   "source": [
    "# Displaying Data"
   ]
  },
  {
   "cell_type": "code",
   "execution_count": null,
   "metadata": {
    "cellView": "form",
    "id": "4Dv_thlLACgU"
   },
   "outputs": [],
   "source": [
    "# @title Plotting functions\n",
    "\n",
    "class UnNormalize(object):\n",
    "    def __init__(self, mean, std):\n",
    "        self.mean = mean\n",
    "        self.std = std\n",
    "\n",
    "    def __call__(self, tensor):\n",
    "        \"\"\"\n",
    "        Args:\n",
    "            tensor (Tensor): Tensor image of size (C, H, W) to be normalized.\n",
    "        Returns:\n",
    "            Tensor: Normalized image.\n",
    "        \"\"\"\n",
    "        for t, m, s in zip(tensor, self.mean, self.std):\n",
    "            t.mul_(s).add_(m)\n",
    "            # The normalize code -> t.sub_(m).div_(s)\n",
    "        return tensor\n",
    "\n",
    "def imshow(img):\n",
    "  plt.figure(figsize=[20, 20])\n",
    "  #unnormalize\n",
    "  #img = img * torch.tensor(std).unsqueeze(dim=-1).unsqueeze(dim=-1)\n",
    "  #img = img + torch.tensor(mean).unsqueeze(dim=-1).unsqueeze(dim=-1)\n",
    "  img = UnNormalize(mean,std)(img)\n",
    "  npimg = img.numpy()\n",
    "  plt.imshow(np.transpose(npimg, (1, 2, 0)))\n",
    "  plt.axis(False)\n",
    "  plt.show()"
   ]
  },
  {
   "cell_type": "code",
   "execution_count": null,
   "metadata": {
    "id": "VGu51uwUHwNM"
   },
   "outputs": [],
   "source": [
    "#dataiter = iter(trainloader)\n",
    "#images, labels = dataiter.next()\n",
    "\n",
    "# show images\n",
    "#imshow(make_grid(images[:10], nrow = 10))"
   ]
  },
  {
   "cell_type": "markdown",
   "metadata": {
    "execution": {},
    "id": "VQPX7hxbtKAB"
   },
   "source": [
    "### Train the target model"
   ]
  },
  {
   "cell_type": "code",
   "execution_count": null,
   "metadata": {
    "execution": {},
    "id": "cWJoPA16tJ_7"
   },
   "outputs": [],
   "source": [
    "# def adjust_learning_rate(optimizer, base_learning_rate, epoch):\n",
    "#   \"\"\"decrease the learning rate at 100 and 150 epoch\"\"\"\n",
    "#   lr = base_learning_rate\n",
    "#   if epoch > 0:\n",
    "#     lr = 1e-4\n",
    "#   #if epoch > 5:\n",
    "#     #lr = 1e-5\n",
    "#   # if epoch <= 9 and lr > 0.1:\n",
    "#   #   # warm-up training for large minibatch\n",
    "#   #   lr = 0.1 + (base_learning_rate - 0.1) * epoch / 10.\n",
    "#   # if epoch >= 100:\n",
    "#   #   lr /= 10\n",
    "#   # if epoch >= 150:\n",
    "#   #   lr /= 10\n",
    "#   for param_group in optimizer.param_groups:\n",
    "#     param_group['lr'] = lr"
   ]
  },
  {
   "cell_type": "code",
   "execution_count": null,
   "metadata": {
    "id": "xG22J35S-K2S"
   },
   "outputs": [],
   "source": [
    "def print_lr(optimizer):\n",
    "  tmp_list = []\n",
    "  for param_group in optimizer.param_groups:\n",
    "    tmp_list.append(param_group['lr'])\n",
    "\n",
    "  print(\"lr per group\", tmp_list, \"mean: \", np.mean(tmp_list))\n",
    "\n",
    "  return np.mean(tmp_list)"
   ]
  },
  {
   "cell_type": "code",
   "execution_count": null,
   "metadata": {
    "id": "kxpSagQeF7n2"
   },
   "outputs": [],
   "source": [
    "# Training & Test functions\n",
    "\n",
    "def train(net, epoch, use_cuda=True):\n",
    "  print('\\nEpoch: %d' % epoch)\n",
    "  net.train() # set the model in training mode\n",
    "  train_loss = 0\n",
    "  correct = 0\n",
    "  total = 0\n",
    "  for batch_idx, (inputs, targets) in enumerate(trainloader):\n",
    "    if use_cuda:\n",
    "      inputs, targets = inputs.cuda(), targets.cuda()\n",
    "\n",
    "    optimizer.zero_grad()\n",
    "    inputs, targets = Variable(inputs), Variable(targets) # Why here is used Variable. Is it needed?\n",
    "    outputs = net(inputs)\n",
    "    loss = criterion(outputs, targets)\n",
    "    loss.backward()\n",
    "    optimizer.step()\n",
    "\n",
    "    train_loss += loss.item() # is the code getting the avg loss since the first iteration batch?\n",
    "    _, predicted = torch.max(outputs.data, 1)\n",
    "    total += targets.size(0)\n",
    "    correct += predicted.eq(targets.data).cpu().sum()\n",
    "\n",
    "    if batch_idx % 500 == 0:\n",
    "      print(\"Train \",batch_idx, len(trainloader), 'Loss: %.3f | Acc: %.3f%% (%d/%d)'\n",
    "          % (train_loss/(batch_idx+1), 100.*correct/total, correct, total))\n",
    "  return (train_loss/batch_idx, 100.*correct/total)\n",
    "\n",
    "\n",
    "def test(net, epoch, outModelName, use_cuda=True):\n",
    "  global best_acc\n",
    "  net.eval() # set the model in eval mode\n",
    "  test_loss, correct, total = 0, 0, 0\n",
    "  with torch.no_grad():\n",
    "    for batch_idx, (inputs, targets) in enumerate(testloader):\n",
    "      if use_cuda:\n",
    "        inputs, targets = inputs.cuda(), targets.cuda()\n",
    "\n",
    "      outputs = net(inputs)\n",
    "      loss = criterion(outputs, targets)\n",
    "\n",
    "      test_loss += loss.item()\n",
    "      _, predicted = torch.max(outputs.data, 1)\n",
    "      total += targets.size(0)\n",
    "      correct += predicted.eq(targets.data).cpu().sum()\n",
    "\n",
    "      if batch_idx % 200 == 0:\n",
    "        print(\"Test \", batch_idx, len(testloader), 'Loss: %.3f | Acc: %.3f%% (%d/%d)'\n",
    "            % (test_loss/(batch_idx+1), 100.*correct/total, correct, total))\n",
    "\n",
    "  # Save checkpoint.\n",
    "  acc = 100.*correct/total\n",
    "  if acc > best_acc:\n",
    "    best_acc = acc\n",
    "    #checkpoint(net, acc, epoch, outModelName)\n",
    "    torch.save(model, f'./checkpoint/{outModelName}_acc({str(acc.item()).replace(\".\",\"-\")})_epoch({epoch}).pt')\n",
    "\n",
    "  return (test_loss/batch_idx, 100.*correct/total)"
   ]
  },
  {
   "cell_type": "code",
   "execution_count": null,
   "metadata": {
    "execution": {},
    "id": "VTJsBeEotKAB"
   },
   "outputs": [],
   "source": [
    "best_acc = 0  # best test accuracy\n",
    "\n",
    "def main(model, max_epochs, outModelName):\n",
    "  logname = result_folder + model.__class__.__name__ + f'_{outModelName}.csv'\n",
    "\n",
    "  if not os.path.exists(logname):\n",
    "    with open(logname, 'w') as logfile:\n",
    "      logwriter = csv.writer(logfile, delimiter=',')\n",
    "      logwriter.writerow(['epoch', 'train loss', 'train acc', 'test loss', 'test acc', 'lr'])\n",
    "\n",
    "  for epoch in range(max_epochs):\n",
    "    # adjust_learning_rate(optimizer, base_learning_rate = 1e-3, epoch= epoch)\n",
    "    lr_mean = print_lr(optimizer)\n",
    "    train_loss, train_acc = train(model, epoch, use_cuda=use_cuda)\n",
    "    test_loss, test_acc = test(model, epoch, outModelName, use_cuda=use_cuda)\n",
    "    with open(logname, 'a') as logfile:\n",
    "      logwriter = csv.writer(logfile, delimiter=',')\n",
    "      logwriter.writerow([epoch, train_loss, train_acc.item(), test_loss, test_acc.item(), lr_mean])\n",
    "    print(f'Epoch: {epoch} | train acc: {train_acc} | test acc: {test_acc} | lr: {lr_mean}' )"
   ]
  },
  {
   "cell_type": "markdown",
   "metadata": {
    "id": "39jOnVATp5-D"
   },
   "source": [
    "# Experiment: Train the complete model"
   ]
  },
  {
   "cell_type": "code",
   "execution_count": null,
   "metadata": {
    "id": "KPLDw7ytcZEl"
   },
   "outputs": [],
   "source": [
    "class MyVGG11(nn.Module):\n",
    "    def __init__(self, pretrained_model, max_frozen_layer = None, freeze = False):\n",
    "        super(MyVGG11, self).__init__()\n",
    "        self.model = pretrained_model\n",
    "\n",
    "        # Freeze the model parameters\n",
    "        if freeze and max_frozen_layer is None:\n",
    "          # freeze all the convolutional layer\n",
    "          for param in self.model.parameters():\n",
    "            param.requires_grad = False\n",
    "        elif freeze and max_frozen_layer is not None:\n",
    "          # freeze the convolutional until max_frozen layer\n",
    "          counter = 0\n",
    "          for param in self.model.parameters():\n",
    "            if counter < max_frozen_layer:\n",
    "              print(f\"Freezing layer {counter}\")\n",
    "              param.requires_grad = False\n",
    "              counter += 1\n",
    "\n",
    "        self.model.avgpool = torch.nn.AdaptiveAvgPool2d(1)\n",
    "        # Replace the classifier part\n",
    "        self.model.classifier = nn.Sequential( #move dropout early\n",
    "            nn.Linear(512, 128, bias = True),\n",
    "            nn.ReLU(inplace = True),\n",
    "            nn.Dropout(p = 0.5), # a little bigger\n",
    "            nn.Linear(128, 4, bias = True)\n",
    "            )\n",
    "            \n",
    "    def forward(self, x):\n",
    "        return self.model(x)"
   ]
  },
  {
   "cell_type": "code",
   "execution_count": null,
   "metadata": {
    "colab": {
     "base_uri": "https://localhost:8080/"
    },
    "id": "3sKuri1cp5Fg",
    "outputId": "b4864322-2ec7-48ba-f74a-cd1700bae2a7"
   },
   "outputs": [
    {
     "name": "stdout",
     "output_type": "stream",
     "text": [
      "MyVGG11(\n",
      "  (model): VGG(\n",
      "    (features): Sequential(\n",
      "      (0): Conv2d(3, 64, kernel_size=(3, 3), stride=(1, 1), padding=(1, 1))\n",
      "      (1): BatchNorm2d(64, eps=1e-05, momentum=0.1, affine=True, track_running_stats=True)\n",
      "      (2): ReLU(inplace=True)\n",
      "      (3): MaxPool2d(kernel_size=2, stride=2, padding=0, dilation=1, ceil_mode=False)\n",
      "      (4): Conv2d(64, 128, kernel_size=(3, 3), stride=(1, 1), padding=(1, 1))\n",
      "      (5): BatchNorm2d(128, eps=1e-05, momentum=0.1, affine=True, track_running_stats=True)\n",
      "      (6): ReLU(inplace=True)\n",
      "      (7): MaxPool2d(kernel_size=2, stride=2, padding=0, dilation=1, ceil_mode=False)\n",
      "      (8): Conv2d(128, 256, kernel_size=(3, 3), stride=(1, 1), padding=(1, 1))\n",
      "      (9): BatchNorm2d(256, eps=1e-05, momentum=0.1, affine=True, track_running_stats=True)\n",
      "      (10): ReLU(inplace=True)\n",
      "      (11): Conv2d(256, 256, kernel_size=(3, 3), stride=(1, 1), padding=(1, 1))\n",
      "      (12): BatchNorm2d(256, eps=1e-05, momentum=0.1, affine=True, track_running_stats=True)\n",
      "      (13): ReLU(inplace=True)\n",
      "      (14): MaxPool2d(kernel_size=2, stride=2, padding=0, dilation=1, ceil_mode=False)\n",
      "      (15): Conv2d(256, 512, kernel_size=(3, 3), stride=(1, 1), padding=(1, 1))\n",
      "      (16): BatchNorm2d(512, eps=1e-05, momentum=0.1, affine=True, track_running_stats=True)\n",
      "      (17): ReLU(inplace=True)\n",
      "      (18): Conv2d(512, 512, kernel_size=(3, 3), stride=(1, 1), padding=(1, 1))\n",
      "      (19): BatchNorm2d(512, eps=1e-05, momentum=0.1, affine=True, track_running_stats=True)\n",
      "      (20): ReLU(inplace=True)\n",
      "      (21): MaxPool2d(kernel_size=2, stride=2, padding=0, dilation=1, ceil_mode=False)\n",
      "      (22): Conv2d(512, 512, kernel_size=(3, 3), stride=(1, 1), padding=(1, 1))\n",
      "      (23): BatchNorm2d(512, eps=1e-05, momentum=0.1, affine=True, track_running_stats=True)\n",
      "      (24): ReLU(inplace=True)\n",
      "      (25): Conv2d(512, 512, kernel_size=(3, 3), stride=(1, 1), padding=(1, 1))\n",
      "      (26): BatchNorm2d(512, eps=1e-05, momentum=0.1, affine=True, track_running_stats=True)\n",
      "      (27): ReLU(inplace=True)\n",
      "      (28): MaxPool2d(kernel_size=2, stride=2, padding=0, dilation=1, ceil_mode=False)\n",
      "    )\n",
      "    (avgpool): AdaptiveAvgPool2d(output_size=1)\n",
      "    (classifier): Sequential(\n",
      "      (0): Linear(in_features=512, out_features=128, bias=True)\n",
      "      (1): ReLU(inplace=True)\n",
      "      (2): Dropout(p=0.5, inplace=False)\n",
      "      (3): Linear(in_features=128, out_features=4, bias=True)\n",
      "    )\n",
      "  )\n",
      ")\n"
     ]
    }
   ],
   "source": [
    "# pretrained_model = vgg16(pretrained=True)\n",
    "pretrained_model = torchvision.models.vgg11_bn(pretrained=True)\n",
    "\n",
    "# # pretrained_model = resnet18(pretrained=True)\n",
    "# # pretrained_model = vgg11(pretrained=True)\n",
    "\n",
    "model = MyVGG11(pretrained_model=pretrained_model)\n",
    "model.to(device)\n",
    "print(model)\n",
    "\n",
    "# define the loss function\n",
    "criterion = nn.CrossEntropyLoss()\n",
    "\n",
    "# define the optimizer\n",
    "optimizer = torch.optim.SGD(\n",
    "    model.parameters(),\n",
    "    lr=1e-4,\n",
    "    momentum=0.9,\n",
    "    weight_decay=1e-4,\n",
    ")\n",
    "\n",
    "# optimizer = torch.optim.Adam(\n",
    "#     model.parameters(),\n",
    "#     lr=1e-4\n",
    "# )\n"
   ]
  },
  {
   "cell_type": "markdown",
   "metadata": {
    "id": "Ml1OEoSP5i4H"
   },
   "source": [
    "#### Check number of parameters\n",
    "\n",
    "We can calculate the number of total parameters and the number of trainable parameters, that is those that will be updated during training. Since we have freezed most of the parameters, the number of training parameters should be much smaller."
   ]
  },
  {
   "cell_type": "code",
   "execution_count": null,
   "metadata": {
    "colab": {
     "base_uri": "https://localhost:8080/"
    },
    "id": "QCPMEvalzQI-",
    "outputId": "e368c561-59d1-44c2-8156-0768fbeb8004"
   },
   "outputs": [
    {
     "name": "stdout",
     "output_type": "stream",
     "text": [
      "Total Parameters: 9292164 Trainable parameters:  9292164\n"
     ]
    }
   ],
   "source": [
    "total_params = sum(p.numel() for p in model.parameters())\n",
    "trainable_total_params = sum(p.numel() for p in model.parameters() if p.requires_grad)\n",
    "\n",
    "print('Total Parameters:', total_params, 'Trainable parameters: ', trainable_total_params)"
   ]
  },
  {
   "cell_type": "code",
   "execution_count": null,
   "metadata": {
    "colab": {
     "base_uri": "https://localhost:8080/"
    },
    "id": "jXgngp4UC-bC",
    "outputId": "71585526-d866-4eb1-e8ca-896cf72e6c41"
   },
   "outputs": [
    {
     "name": "stdout",
     "output_type": "stream",
     "text": [
      "lr per group [0.0001] mean:  0.0001\n",
      "\n",
      "Epoch: 0\n"
     ]
    },
    {
     "name": "stderr",
     "output_type": "stream",
     "text": [
      "/usr/local/lib/python3.7/dist-packages/torch/nn/functional.py:718: UserWarning: Named tensors and all their associated APIs are an experimental feature and subject to change. Please do not use them for anything important until they are released as stable. (Triggered internally at  /pytorch/c10/core/TensorImpl.h:1156.)\n",
      "  return torch.max_pool2d(input, kernel_size, stride, padding, dilation, ceil_mode)\n"
     ]
    },
    {
     "name": "stdout",
     "output_type": "stream",
     "text": [
      "Train  0 23 Loss: 1.370 | Acc: 34.375% (44/128)\n",
      "Test  0 4 Loss: 1.411 | Acc: 0.000% (0/128)\n",
      "Epoch: 0 | train acc: 28.641115188598633 | test acc: 18.781726837158203 | lr: 0.0001\n",
      "lr per group [0.0001] mean:  0.0001\n",
      "\n",
      "Epoch: 1\n",
      "Train  0 23 Loss: 1.380 | Acc: 30.469% (39/128)\n",
      "Test  0 4 Loss: 1.410 | Acc: 0.000% (0/128)\n",
      "Epoch: 1 | train acc: 29.721254348754883 | test acc: 18.781726837158203 | lr: 0.0001\n",
      "lr per group [0.0001] mean:  0.0001\n",
      "\n",
      "Epoch: 2\n",
      "Train  0 23 Loss: 1.384 | Acc: 24.219% (31/128)\n",
      "Test  0 4 Loss: 1.404 | Acc: 0.000% (0/128)\n",
      "Epoch: 2 | train acc: 29.268293380737305 | test acc: 18.781726837158203 | lr: 0.0001\n",
      "lr per group [0.0001] mean:  0.0001\n",
      "\n",
      "Epoch: 3\n",
      "Train  0 23 Loss: 1.373 | Acc: 32.812% (42/128)\n",
      "Test  0 4 Loss: 1.400 | Acc: 0.000% (0/128)\n",
      "Epoch: 3 | train acc: 28.74564552307129 | test acc: 18.781726837158203 | lr: 0.0001\n",
      "lr per group [0.0001] mean:  0.0001\n",
      "\n",
      "Epoch: 4\n",
      "Train  0 23 Loss: 1.380 | Acc: 21.875% (28/128)\n",
      "Test  0 4 Loss: 1.400 | Acc: 0.000% (0/128)\n",
      "Epoch: 4 | train acc: 30.313589096069336 | test acc: 18.781726837158203 | lr: 0.0001\n",
      "lr per group [0.0001] mean:  0.0001\n",
      "\n",
      "Epoch: 5\n",
      "Train  0 23 Loss: 1.365 | Acc: 30.469% (39/128)\n",
      "Test  0 4 Loss: 1.401 | Acc: 0.000% (0/128)\n",
      "Epoch: 5 | train acc: 30.2439022064209 | test acc: 18.781726837158203 | lr: 0.0001\n",
      "lr per group [0.0001] mean:  0.0001\n",
      "\n",
      "Epoch: 6\n",
      "Train  0 23 Loss: 1.363 | Acc: 32.031% (41/128)\n",
      "Test  0 4 Loss: 1.400 | Acc: 0.000% (0/128)\n",
      "Epoch: 6 | train acc: 31.74216079711914 | test acc: 19.035533905029297 | lr: 0.0001\n",
      "lr per group [0.0001] mean:  0.0001\n",
      "\n",
      "Epoch: 7\n",
      "Train  0 23 Loss: 1.373 | Acc: 28.906% (37/128)\n",
      "Test  0 4 Loss: 1.396 | Acc: 0.000% (0/128)\n",
      "Epoch: 7 | train acc: 32.1602783203125 | test acc: 19.035533905029297 | lr: 0.0001\n",
      "lr per group [0.0001] mean:  0.0001\n",
      "\n",
      "Epoch: 8\n",
      "Train  0 23 Loss: 1.357 | Acc: 41.406% (53/128)\n",
      "Test  0 4 Loss: 1.395 | Acc: 0.781% (1/128)\n",
      "Epoch: 8 | train acc: 32.47386932373047 | test acc: 18.527917861938477 | lr: 0.0001\n",
      "lr per group [0.0001] mean:  0.0001\n",
      "\n",
      "Epoch: 9\n",
      "Train  0 23 Loss: 1.367 | Acc: 36.719% (47/128)\n",
      "Test  0 4 Loss: 1.390 | Acc: 0.781% (1/128)\n",
      "Epoch: 9 | train acc: 33.135887145996094 | test acc: 18.527917861938477 | lr: 0.0001\n",
      "lr per group [0.0001] mean:  0.0001\n",
      "\n",
      "Epoch: 10\n",
      "Train  0 23 Loss: 1.357 | Acc: 34.375% (44/128)\n",
      "Test  0 4 Loss: 1.389 | Acc: 1.562% (2/128)\n",
      "Epoch: 10 | train acc: 33.55400848388672 | test acc: 19.035533905029297 | lr: 0.0001\n",
      "lr per group [0.0001] mean:  0.0001\n",
      "\n",
      "Epoch: 11\n",
      "Train  0 23 Loss: 1.353 | Acc: 41.406% (53/128)\n",
      "Test  0 4 Loss: 1.388 | Acc: 2.344% (3/128)\n",
      "Epoch: 11 | train acc: 35.156795501708984 | test acc: 19.28934097290039 | lr: 0.0001\n",
      "lr per group [0.0001] mean:  0.0001\n",
      "\n",
      "Epoch: 12\n",
      "Train  0 23 Loss: 1.365 | Acc: 25.781% (33/128)\n",
      "Test  0 4 Loss: 1.385 | Acc: 3.125% (4/128)\n",
      "Epoch: 12 | train acc: 35.64459991455078 | test acc: 19.796955108642578 | lr: 0.0001\n",
      "lr per group [0.0001] mean:  0.0001\n",
      "\n",
      "Epoch: 13\n",
      "Train  0 23 Loss: 1.362 | Acc: 35.156% (45/128)\n",
      "Test  0 4 Loss: 1.382 | Acc: 3.125% (4/128)\n",
      "Epoch: 13 | train acc: 35.33100891113281 | test acc: 20.55837631225586 | lr: 0.0001\n",
      "lr per group [0.0001] mean:  0.0001\n",
      "\n",
      "Epoch: 14\n",
      "Train  0 23 Loss: 1.343 | Acc: 35.156% (45/128)\n",
      "Test  0 4 Loss: 1.380 | Acc: 3.906% (5/128)\n",
      "Epoch: 14 | train acc: 36.898956298828125 | test acc: 21.31979751586914 | lr: 0.0001\n",
      "lr per group [0.0001] mean:  0.0001\n",
      "\n",
      "Epoch: 15\n",
      "Train  0 23 Loss: 1.356 | Acc: 38.281% (49/128)\n",
      "Test  0 4 Loss: 1.377 | Acc: 3.906% (5/128)\n",
      "Epoch: 15 | train acc: 35.85365676879883 | test acc: 22.335025787353516 | lr: 0.0001\n",
      "lr per group [0.0001] mean:  0.0001\n",
      "\n",
      "Epoch: 16\n",
      "Train  0 23 Loss: 1.345 | Acc: 35.156% (45/128)\n",
      "Test  0 4 Loss: 1.377 | Acc: 3.906% (5/128)\n",
      "Epoch: 16 | train acc: 38.1533088684082 | test acc: 22.58883285522461 | lr: 0.0001\n",
      "lr per group [0.0001] mean:  0.0001\n",
      "\n",
      "Epoch: 17\n",
      "Train  0 23 Loss: 1.350 | Acc: 36.719% (47/128)\n",
      "Test  0 4 Loss: 1.376 | Acc: 3.906% (5/128)\n",
      "Epoch: 17 | train acc: 38.67595672607422 | test acc: 22.842639923095703 | lr: 0.0001\n",
      "lr per group [0.0001] mean:  0.0001\n",
      "\n",
      "Epoch: 18\n",
      "Train  0 23 Loss: 1.344 | Acc: 35.156% (45/128)\n",
      "Test  0 4 Loss: 1.374 | Acc: 7.031% (9/128)\n",
      "Epoch: 18 | train acc: 38.46689987182617 | test acc: 24.873096466064453 | lr: 0.0001\n",
      "lr per group [0.0001] mean:  0.0001\n",
      "\n",
      "Epoch: 19\n",
      "Train  0 23 Loss: 1.327 | Acc: 43.750% (56/128)\n",
      "Test  0 4 Loss: 1.372 | Acc: 7.031% (9/128)\n",
      "Epoch: 19 | train acc: 40.41811752319336 | test acc: 25.634517669677734 | lr: 0.0001\n",
      "lr per group [0.0001] mean:  0.0001\n",
      "\n",
      "Epoch: 20\n",
      "Train  0 23 Loss: 1.337 | Acc: 41.406% (53/128)\n",
      "Test  0 4 Loss: 1.370 | Acc: 7.031% (9/128)\n",
      "Epoch: 20 | train acc: 40.45296096801758 | test acc: 26.395938873291016 | lr: 0.0001\n",
      "lr per group [0.0001] mean:  0.0001\n",
      "\n",
      "Epoch: 21\n",
      "Train  0 23 Loss: 1.337 | Acc: 42.969% (55/128)\n",
      "Test  0 4 Loss: 1.369 | Acc: 7.031% (9/128)\n",
      "Epoch: 21 | train acc: 41.08013916015625 | test acc: 26.395938873291016 | lr: 0.0001\n",
      "lr per group [0.0001] mean:  0.0001\n",
      "\n",
      "Epoch: 22\n",
      "Train  0 23 Loss: 1.335 | Acc: 43.750% (56/128)\n",
      "Test  0 4 Loss: 1.368 | Acc: 8.594% (11/128)\n",
      "Epoch: 22 | train acc: 40.4878044128418 | test acc: 27.41116714477539 | lr: 0.0001\n",
      "lr per group [0.0001] mean:  0.0001\n",
      "\n",
      "Epoch: 23\n",
      "Train  0 23 Loss: 1.320 | Acc: 43.750% (56/128)\n",
      "Test  0 4 Loss: 1.367 | Acc: 8.594% (11/128)\n",
      "Epoch: 23 | train acc: 41.6724739074707 | test acc: 28.426395416259766 | lr: 0.0001\n",
      "lr per group [0.0001] mean:  0.0001\n",
      "\n",
      "Epoch: 24\n",
      "Train  0 23 Loss: 1.335 | Acc: 44.531% (57/128)\n",
      "Test  0 4 Loss: 1.365 | Acc: 9.375% (12/128)\n",
      "Epoch: 24 | train acc: 40.69686508178711 | test acc: 28.934009552001953 | lr: 0.0001\n",
      "lr per group [0.0001] mean:  0.0001\n",
      "\n",
      "Epoch: 25\n",
      "Train  0 23 Loss: 1.327 | Acc: 44.531% (57/128)\n",
      "Test  0 4 Loss: 1.365 | Acc: 9.375% (12/128)\n",
      "Epoch: 25 | train acc: 41.986061096191406 | test acc: 28.934009552001953 | lr: 0.0001\n",
      "lr per group [0.0001] mean:  0.0001\n",
      "\n",
      "Epoch: 26\n",
      "Train  0 23 Loss: 1.330 | Acc: 39.844% (51/128)\n",
      "Test  0 4 Loss: 1.363 | Acc: 10.156% (13/128)\n",
      "Epoch: 26 | train acc: 44.14634323120117 | test acc: 29.695430755615234 | lr: 0.0001\n",
      "lr per group [0.0001] mean:  0.0001\n",
      "\n",
      "Epoch: 27\n",
      "Train  0 23 Loss: 1.316 | Acc: 51.562% (66/128)\n",
      "Test  0 4 Loss: 1.362 | Acc: 10.156% (13/128)\n",
      "Epoch: 27 | train acc: 43.72822189331055 | test acc: 30.71065902709961 | lr: 0.0001\n",
      "lr per group [0.0001] mean:  0.0001\n",
      "\n",
      "Epoch: 28\n",
      "Train  0 23 Loss: 1.322 | Acc: 46.094% (59/128)\n",
      "Test  0 4 Loss: 1.362 | Acc: 10.156% (13/128)\n",
      "Epoch: 28 | train acc: 44.73867416381836 | test acc: 30.456851959228516 | lr: 0.0001\n",
      "lr per group [0.0001] mean:  0.0001\n",
      "\n",
      "Epoch: 29\n",
      "Train  0 23 Loss: 1.350 | Acc: 42.188% (54/128)\n",
      "Test  0 4 Loss: 1.361 | Acc: 10.156% (13/128)\n",
      "Epoch: 29 | train acc: 45.33100891113281 | test acc: 30.964466094970703 | lr: 0.0001\n"
     ]
    }
   ],
   "source": [
    "main(model, max_epochs = 30, outModelName = \"vgg11bn_2linearlayers_mri\")"
   ]
  },
  {
   "cell_type": "markdown",
   "metadata": {
    "id": "T1PKCqdW-tc9"
   },
   "source": [
    "## Freeze layers"
   ]
  },
  {
   "cell_type": "code",
   "execution_count": null,
   "metadata": {
    "colab": {
     "base_uri": "https://localhost:8080/",
     "height": 65,
     "referenced_widgets": [
      "612db696e4c8461ba20f9dfdf267355f",
      "490b28942e5c49789bf076e73373e600",
      "7fda46fdf33c4d53b3c77ea04bb78931",
      "67d78a2a35ec4a7bb55a2e65d662bc81",
      "a27f1743bcd848488edc303dd91cfc5b",
      "6a08afda15754cf6b03aa3226cf8f781",
      "74c2ea06ee154f07874854ccb6531185",
      "c9235fec2838483698de9b84d3e3157e",
      "b816a6e49594414fb319e96485a6229a",
      "0b01aaf5b7c04974b7d7c2dc5b391467",
      "f84c2a4f5401416fb635b40bdca0d031"
     ]
    },
    "id": "PXydpcZE-tLb",
    "outputId": "ee4629b1-c512-4096-de12-42a1e9f56b54"
   },
   "outputs": [
    {
     "name": "stderr",
     "output_type": "stream",
     "text": [
      "Downloading: \"https://download.pytorch.org/models/vgg19_bn-c79401a0.pth\" to /root/.cache/torch/hub/checkpoints/vgg19_bn-c79401a0.pth\n"
     ]
    },
    {
     "data": {
      "application/vnd.jupyter.widget-view+json": {
       "model_id": "612db696e4c8461ba20f9dfdf267355f",
       "version_major": 2,
       "version_minor": 0
      },
      "text/plain": [
       "  0%|          | 0.00/548M [00:00<?, ?B/s]"
      ]
     },
     "metadata": {
      "tags": []
     },
     "output_type": "display_data"
    }
   ],
   "source": [
    "pretrained_model = vgg19_bn(pretrained=True) #TODO: change the network\n",
    "\n",
    "model = MyVGG19(pretrained_model=pretrained_model, freeze = True) #, max_frozen_layer=24)\n",
    "model.to(device)\n",
    "#print(model)\n",
    "\n",
    "# define the loss function\n",
    "criterion = nn.CrossEntropyLoss()\n",
    "\n",
    "# define the optimizer\n",
    "optimizer = torch.optim.SGD(\n",
    "    model.parameters(),\n",
    "    lr=1e-4,\n",
    "    momentum=0.9,\n",
    "    weight_decay= 1e-4 # l2 regularization\n",
    ")\n"
   ]
  },
  {
   "cell_type": "code",
   "execution_count": null,
   "metadata": {
    "colab": {
     "base_uri": "https://localhost:8080/"
    },
    "id": "vvBLERkMDMsr",
    "outputId": "e686c866-e9f6-401b-96ec-bfef9f83fcc8"
   },
   "outputs": [
    {
     "name": "stdout",
     "output_type": "stream",
     "text": [
      "Total Parameters: 23247300 Trainable parameters:  3211908\n"
     ]
    }
   ],
   "source": [
    "total_params = sum(p.numel() for p in model.parameters())\n",
    "trainable_total_params = sum(p.numel() for p in model.parameters() if p.requires_grad)\n",
    "\n",
    "print('Total Parameters:', total_params, 'Trainable parameters: ', trainable_total_params)"
   ]
  },
  {
   "cell_type": "code",
   "execution_count": null,
   "metadata": {
    "colab": {
     "base_uri": "https://localhost:8080/"
    },
    "id": "tFPGahXaCCas",
    "outputId": "30b76252-9d46-40e0-d0f6-3c6daa93f1e7"
   },
   "outputs": [
    {
     "name": "stdout",
     "output_type": "stream",
     "text": [
      "lr per group [0.0001] mean:  0.0001\n",
      "\n",
      "Epoch: 0\n"
     ]
    },
    {
     "name": "stderr",
     "output_type": "stream",
     "text": [
      "/usr/local/lib/python3.7/dist-packages/torch/nn/functional.py:718: UserWarning: Named tensors and all their associated APIs are an experimental feature and subject to change. Please do not use them for anything important until they are released as stable. (Triggered internally at  /pytorch/c10/core/TensorImpl.h:1156.)\n",
      "  return torch.max_pool2d(input, kernel_size, stride, padding, dilation, ceil_mode)\n"
     ]
    },
    {
     "name": "stdout",
     "output_type": "stream",
     "text": [
      "Train  0 45 Loss: 1.386 | Acc: 26.562% (17/64)\n",
      "Test  0 7 Loss: 2.310 | Acc: 17.188% (11/64)\n",
      "Epoch: 0 | train acc: 69.68640899658203 | test acc: 50.76142120361328 | lr: 0.0001\n",
      "lr per group [0.0001] mean:  0.0001\n",
      "\n",
      "Epoch: 1\n",
      "Train  0 45 Loss: 0.589 | Acc: 79.688% (51/64)\n",
      "Test  0 7 Loss: 2.929 | Acc: 12.500% (8/64)\n",
      "Epoch: 1 | train acc: 82.40418243408203 | test acc: 57.106597900390625 | lr: 0.0001\n",
      "lr per group [0.0001] mean:  0.0001\n",
      "\n",
      "Epoch: 2\n",
      "Train  0 45 Loss: 0.499 | Acc: 81.250% (52/64)\n",
      "Test  0 7 Loss: 2.952 | Acc: 10.938% (7/64)\n",
      "Epoch: 2 | train acc: 85.2961654663086 | test acc: 59.898475646972656 | lr: 0.0001\n",
      "lr per group [0.0001] mean:  0.0001\n",
      "\n",
      "Epoch: 3\n",
      "Train  0 45 Loss: 0.404 | Acc: 84.375% (54/64)\n",
      "Test  0 7 Loss: 3.233 | Acc: 12.500% (8/64)\n",
      "Epoch: 3 | train acc: 87.38675689697266 | test acc: 61.67512512207031 | lr: 0.0001\n",
      "lr per group [0.0001] mean:  0.0001\n",
      "\n",
      "Epoch: 4\n",
      "Train  0 45 Loss: 0.266 | Acc: 92.188% (59/64)\n",
      "Test  0 7 Loss: 2.939 | Acc: 21.875% (14/64)\n",
      "Epoch: 4 | train acc: 88.4668960571289 | test acc: 67.51268768310547 | lr: 0.0001\n",
      "lr per group [0.0001] mean:  0.0001\n",
      "\n",
      "Epoch: 5\n",
      "Train  0 45 Loss: 0.384 | Acc: 84.375% (54/64)\n",
      "Test  0 7 Loss: 3.000 | Acc: 21.875% (14/64)\n",
      "Epoch: 5 | train acc: 89.0243911743164 | test acc: 66.75126647949219 | lr: 0.0001\n",
      "lr per group [0.0001] mean:  0.0001\n",
      "\n",
      "Epoch: 6\n",
      "Train  0 45 Loss: 0.419 | Acc: 82.812% (53/64)\n",
      "Test  0 7 Loss: 3.253 | Acc: 20.312% (13/64)\n",
      "Epoch: 6 | train acc: 90.13937377929688 | test acc: 68.27410888671875 | lr: 0.0001\n",
      "lr per group [0.0001] mean:  0.0001\n",
      "\n",
      "Epoch: 7\n",
      "Train  0 45 Loss: 0.276 | Acc: 92.188% (59/64)\n",
      "Test  0 7 Loss: 3.532 | Acc: 18.750% (12/64)\n",
      "Epoch: 7 | train acc: 91.39373016357422 | test acc: 68.52791595458984 | lr: 0.0001\n",
      "lr per group [0.0001] mean:  0.0001\n",
      "\n",
      "Epoch: 8\n",
      "Train  0 45 Loss: 0.241 | Acc: 93.750% (60/64)\n",
      "Test  0 7 Loss: 3.109 | Acc: 21.875% (14/64)\n",
      "Epoch: 8 | train acc: 91.21951293945312 | test acc: 69.03553009033203 | lr: 0.0001\n",
      "lr per group [0.0001] mean:  0.0001\n",
      "\n",
      "Epoch: 9\n",
      "Train  0 45 Loss: 0.276 | Acc: 90.625% (58/64)\n",
      "Test  0 7 Loss: 3.826 | Acc: 20.312% (13/64)\n",
      "Epoch: 9 | train acc: 92.02090454101562 | test acc: 68.52791595458984 | lr: 0.0001\n",
      "lr per group [0.0001] mean:  0.0001\n",
      "\n",
      "Epoch: 10\n",
      "Train  0 45 Loss: 0.344 | Acc: 84.375% (54/64)\n",
      "Test  0 7 Loss: 3.359 | Acc: 21.875% (14/64)\n",
      "Epoch: 10 | train acc: 91.9860610961914 | test acc: 70.0507583618164 | lr: 0.0001\n",
      "lr per group [0.0001] mean:  0.0001\n",
      "\n",
      "Epoch: 11\n",
      "Train  0 45 Loss: 0.246 | Acc: 90.625% (58/64)\n",
      "Test  0 7 Loss: 3.363 | Acc: 21.875% (14/64)\n",
      "Epoch: 11 | train acc: 92.5435562133789 | test acc: 70.5583724975586 | lr: 0.0001\n",
      "lr per group [0.0001] mean:  0.0001\n",
      "\n",
      "Epoch: 12\n",
      "Train  0 45 Loss: 0.135 | Acc: 96.875% (62/64)\n",
      "Test  0 7 Loss: 3.343 | Acc: 25.000% (16/64)\n",
      "Epoch: 12 | train acc: 92.61324310302734 | test acc: 70.81217956542969 | lr: 0.0001\n",
      "lr per group [0.0001] mean:  0.0001\n",
      "\n",
      "Epoch: 13\n",
      "Train  0 45 Loss: 0.176 | Acc: 96.875% (62/64)\n",
      "Test  0 7 Loss: 3.785 | Acc: 20.312% (13/64)\n",
      "Epoch: 13 | train acc: 93.65853881835938 | test acc: 71.31979370117188 | lr: 0.0001\n",
      "lr per group [0.0001] mean:  0.0001\n",
      "\n",
      "Epoch: 14\n",
      "Train  0 45 Loss: 0.238 | Acc: 90.625% (58/64)\n",
      "Test  0 7 Loss: 3.523 | Acc: 21.875% (14/64)\n",
      "Epoch: 14 | train acc: 93.03135681152344 | test acc: 72.08121490478516 | lr: 0.0001\n",
      "lr per group [0.0001] mean:  0.0001\n",
      "\n",
      "Epoch: 15\n",
      "Train  0 45 Loss: 0.165 | Acc: 96.875% (62/64)\n",
      "Test  0 7 Loss: 3.469 | Acc: 25.000% (16/64)\n",
      "Epoch: 15 | train acc: 93.03135681152344 | test acc: 74.1116714477539 | lr: 0.0001\n",
      "lr per group [0.0001] mean:  0.0001\n",
      "\n",
      "Epoch: 16\n",
      "Train  0 45 Loss: 0.200 | Acc: 93.750% (60/64)\n"
     ]
    }
   ],
   "source": [
    "main(model, max_epochs = 20, outModelName = \"frozen_model_bn_6_mri\")"
   ]
  },
  {
   "cell_type": "markdown",
   "metadata": {
    "execution": {},
    "id": "juIq1lBEtKAC"
   },
   "source": [
    "## Plot results"
   ]
  },
  {
   "cell_type": "code",
   "execution_count": null,
   "metadata": {
    "id": "YAUbuOoZeFqk"
   },
   "outputs": [],
   "source": [
    "def plot_results(results, name):\n",
    "  train_accuracy = results['train acc'].values\n",
    "  test_accuracy = results['test acc'].values\n",
    "\n",
    "  train_loss = results['train loss'].values\n",
    "  test_loss = results['test loss'].values\n",
    "\n",
    "  figureName = name +\"_accuracy\" # change figure name\n",
    "\n",
    "  plt.style.use('fivethirtyeight')\n",
    "  fig, (ax1, ax2) = plt.subplots(figsize=(16,8),nrows=1, ncols=2, sharex=True, sharey=False)\n",
    "  ax1.plot(results['epoch'].values, train_accuracy, label='train', color='r', marker='s', lw=3)\n",
    "  ax1.plot(results['epoch'].values, test_accuracy, label='test', color='b', marker='o', lw=3)\n",
    "  ax1.legend()\n",
    "  ax1.set_ylim([0,100])\n",
    "  ax1.set(xlabel=\"Epochs\", ylabel=\"Accuracy Score\")\n",
    "  ax2.plot(results['epoch'].values, train_loss, label='train', color='r', marker='s', lw=3)\n",
    "  ax2.plot(results['epoch'].values, test_loss, label='test', color='b', marker='o', lw=3)\n",
    "  ax2.legend()\n",
    "  ax2.set(xlabel=\"Epochs\", ylabel=\"CrossEntropy Loss\")\n",
    "  fig.savefig(f'./results/{figureName}.png')\n",
    "  plt.show()\n"
   ]
  },
  {
   "cell_type": "code",
   "execution_count": null,
   "metadata": {
    "colab": {
     "base_uri": "https://localhost:8080/"
    },
    "id": "wRE0aSOYcefN",
    "outputId": "d1e14935-be78-447f-89c5-e960337f7f4f"
   },
   "outputs": [
    {
     "name": "stdout",
     "output_type": "stream",
     "text": [
      "MyVGG11_vgg11bn_2linearlayers_mri.csv\n"
     ]
    }
   ],
   "source": [
    "!ls results"
   ]
  },
  {
   "cell_type": "code",
   "execution_count": null,
   "metadata": {
    "colab": {
     "base_uri": "https://localhost:8080/",
     "height": 542
    },
    "id": "djY9po2gBs18",
    "outputId": "601ff43e-b43b-4f5e-f734-3221c7e076d5"
   },
   "outputs": [
    {
     "data": {
      "image/png": "[encoded data removed]",
      "text/plain": [
       "<Figure size 1152x576 with 2 Axes>"
      ]
     },
     "metadata": {},
     "output_type": "display_data"
    }
   ],
   "source": [
    "name = \"MyVGG11_vgg11bn_2linearlayers_mri\"\n",
    "results = pd.read_csv(f'./results/{name}.csv', sep =',')\n",
    "plot_results(results, name)"
   ]
  },
  {
   "cell_type": "code",
   "execution_count": null,
   "metadata": {
    "id": "tj58y11IV6a1"
   },
   "outputs": [],
   "source": []
  }
 ],
 "metadata": {
  "accelerator": "GPU",
  "colab": {
   "collapsed_sections": [],
   "name": "Copy of Copia de Neuromatch Project.ipynb",
   "provenance": []
  },
  "kernelspec": {
   "display_name": "Python 3",
   "language": "python",
   "name": "python3"
  },
  "language_info": {
   "codemirror_mode": {
    "name": "ipython",
    "version": 3
   },
   "file_extension": ".py",
   "mimetype": "text/x-python",
   "name": "python",
   "nbconvert_exporter": "python",
   "pygments_lexer": "ipython3",
   "version": "3.7.4"
  },
  "widgets": {
   "application/vnd.jupyter.widget-state+json": {
    "0b01aaf5b7c04974b7d7c2dc5b391467": {
     "model_module": "@jupyter-widgets/controls",
     "model_module_version": "1.5.0",
     "model_name": "DescriptionStyleModel",
     "state": {
      "_model_module": "@jupyter-widgets/controls",
      "_model_module_version": "1.5.0",
      "_model_name": "DescriptionStyleModel",
      "_view_count": null,
      "_view_module": "@jupyter-widgets/base",
      "_view_module_version": "1.2.0",
      "_view_name": "StyleView",
      "description_width": ""
     }
    },
    "490b28942e5c49789bf076e73373e600": {
     "model_module": "@jupyter-widgets/base",
     "model_module_version": "1.2.0",
     "model_name": "LayoutModel",
     "state": {
      "_model_module": "@jupyter-widgets/base",
      "_model_module_version": "1.2.0",
      "_model_name": "LayoutModel",
      "_view_count": null,
      "_view_module": "@jupyter-widgets/base",
      "_view_module_version": "1.2.0",
      "_view_name": "LayoutView",
      "align_content": null,
      "align_items": null,
      "align_self": null,
      "border": null,
      "bottom": null,
      "display": null,
      "flex": null,
      "flex_flow": null,
      "grid_area": null,
      "grid_auto_columns": null,
      "grid_auto_flow": null,
      "grid_auto_rows": null,
      "grid_column": null,
      "grid_gap": null,
      "grid_row": null,
      "grid_template_areas": null,
      "grid_template_columns": null,
      "grid_template_rows": null,
      "height": null,
      "justify_content": null,
      "justify_items": null,
      "left": null,
      "margin": null,
      "max_height": null,
      "max_width": null,
      "min_height": null,
      "min_width": null,
      "object_fit": null,
      "object_position": null,
      "order": null,
      "overflow": null,
      "overflow_x": null,
      "overflow_y": null,
      "padding": null,
      "right": null,
      "top": null,
      "visibility": null,
      "width": null
     }
    },
    "612db696e4c8461ba20f9dfdf267355f": {
     "model_module": "@jupyter-widgets/controls",
     "model_module_version": "1.5.0",
     "model_name": "HBoxModel",
     "state": {
      "_dom_classes": [],
      "_model_module": "@jupyter-widgets/controls",
      "_model_module_version": "1.5.0",
      "_model_name": "HBoxModel",
      "_view_count": null,
      "_view_module": "@jupyter-widgets/controls",
      "_view_module_version": "1.5.0",
      "_view_name": "HBoxView",
      "box_style": "",
      "children": [
       "IPY_MODEL_7fda46fdf33c4d53b3c77ea04bb78931",
       "IPY_MODEL_67d78a2a35ec4a7bb55a2e65d662bc81",
       "IPY_MODEL_a27f1743bcd848488edc303dd91cfc5b"
      ],
      "layout": "IPY_MODEL_490b28942e5c49789bf076e73373e600"
     }
    },
    "67d78a2a35ec4a7bb55a2e65d662bc81": {
     "model_module": "@jupyter-widgets/controls",
     "model_module_version": "1.5.0",
     "model_name": "FloatProgressModel",
     "state": {
      "_dom_classes": [],
      "_model_module": "@jupyter-widgets/controls",
      "_model_module_version": "1.5.0",
      "_model_name": "FloatProgressModel",
      "_view_count": null,
      "_view_module": "@jupyter-widgets/controls",
      "_view_module_version": "1.5.0",
      "_view_name": "ProgressView",
      "bar_style": "success",
      "description": "",
      "description_tooltip": null,
      "layout": "IPY_MODEL_b816a6e49594414fb319e96485a6229a",
      "max": 574769405,
      "min": 0,
      "orientation": "horizontal",
      "style": "IPY_MODEL_c9235fec2838483698de9b84d3e3157e",
      "value": 574769405
     }
    },
    "6a08afda15754cf6b03aa3226cf8f781": {
     "model_module": "@jupyter-widgets/controls",
     "model_module_version": "1.5.0",
     "model_name": "DescriptionStyleModel",
     "state": {
      "_model_module": "@jupyter-widgets/controls",
      "_model_module_version": "1.5.0",
      "_model_name": "DescriptionStyleModel",
      "_view_count": null,
      "_view_module": "@jupyter-widgets/base",
      "_view_module_version": "1.2.0",
      "_view_name": "StyleView",
      "description_width": ""
     }
    },
    "74c2ea06ee154f07874854ccb6531185": {
     "model_module": "@jupyter-widgets/base",
     "model_module_version": "1.2.0",
     "model_name": "LayoutModel",
     "state": {
      "_model_module": "@jupyter-widgets/base",
      "_model_module_version": "1.2.0",
      "_model_name": "LayoutModel",
      "_view_count": null,
      "_view_module": "@jupyter-widgets/base",
      "_view_module_version": "1.2.0",
      "_view_name": "LayoutView",
      "align_content": null,
      "align_items": null,
      "align_self": null,
      "border": null,
      "bottom": null,
      "display": null,
      "flex": null,
      "flex_flow": null,
      "grid_area": null,
      "grid_auto_columns": null,
      "grid_auto_flow": null,
      "grid_auto_rows": null,
      "grid_column": null,
      "grid_gap": null,
      "grid_row": null,
      "grid_template_areas": null,
      "grid_template_columns": null,
      "grid_template_rows": null,
      "height": null,
      "justify_content": null,
      "justify_items": null,
      "left": null,
      "margin": null,
      "max_height": null,
      "max_width": null,
      "min_height": null,
      "min_width": null,
      "object_fit": null,
      "object_position": null,
      "order": null,
      "overflow": null,
      "overflow_x": null,
      "overflow_y": null,
      "padding": null,
      "right": null,
      "top": null,
      "visibility": null,
      "width": null
     }
    },
    "7fda46fdf33c4d53b3c77ea04bb78931": {
     "model_module": "@jupyter-widgets/controls",
     "model_module_version": "1.5.0",
     "model_name": "HTMLModel",
     "state": {
      "_dom_classes": [],
      "_model_module": "@jupyter-widgets/controls",
      "_model_module_version": "1.5.0",
      "_model_name": "HTMLModel",
      "_view_count": null,
      "_view_module": "@jupyter-widgets/controls",
      "_view_module_version": "1.5.0",
      "_view_name": "HTMLView",
      "description": "",
      "description_tooltip": null,
      "layout": "IPY_MODEL_74c2ea06ee154f07874854ccb6531185",
      "placeholder": "​",
      "style": "IPY_MODEL_6a08afda15754cf6b03aa3226cf8f781",
      "value": "100%"
     }
    },
    "a27f1743bcd848488edc303dd91cfc5b": {
     "model_module": "@jupyter-widgets/controls",
     "model_module_version": "1.5.0",
     "model_name": "HTMLModel",
     "state": {
      "_dom_classes": [],
      "_model_module": "@jupyter-widgets/controls",
      "_model_module_version": "1.5.0",
      "_model_name": "HTMLModel",
      "_view_count": null,
      "_view_module": "@jupyter-widgets/controls",
      "_view_module_version": "1.5.0",
      "_view_name": "HTMLView",
      "description": "",
      "description_tooltip": null,
      "layout": "IPY_MODEL_f84c2a4f5401416fb635b40bdca0d031",
      "placeholder": "​",
      "style": "IPY_MODEL_0b01aaf5b7c04974b7d7c2dc5b391467",
      "value": " 548M/548M [00:07&lt;00:00, 73.9MB/s]"
     }
    },
    "b816a6e49594414fb319e96485a6229a": {
     "model_module": "@jupyter-widgets/base",
     "model_module_version": "1.2.0",
     "model_name": "LayoutModel",
     "state": {
      "_model_module": "@jupyter-widgets/base",
      "_model_module_version": "1.2.0",
      "_model_name": "LayoutModel",
      "_view_count": null,
      "_view_module": "@jupyter-widgets/base",
      "_view_module_version": "1.2.0",
      "_view_name": "LayoutView",
      "align_content": null,
      "align_items": null,
      "align_self": null,
      "border": null,
      "bottom": null,
      "display": null,
      "flex": null,
      "flex_flow": null,
      "grid_area": null,
      "grid_auto_columns": null,
      "grid_auto_flow": null,
      "grid_auto_rows": null,
      "grid_column": null,
      "grid_gap": null,
      "grid_row": null,
      "grid_template_areas": null,
      "grid_template_columns": null,
      "grid_template_rows": null,
      "height": null,
      "justify_content": null,
      "justify_items": null,
      "left": null,
      "margin": null,
      "max_height": null,
      "max_width": null,
      "min_height": null,
      "min_width": null,
      "object_fit": null,
      "object_position": null,
      "order": null,
      "overflow": null,
      "overflow_x": null,
      "overflow_y": null,
      "padding": null,
      "right": null,
      "top": null,
      "visibility": null,
      "width": null
     }
    },
    "c9235fec2838483698de9b84d3e3157e": {
     "model_module": "@jupyter-widgets/controls",
     "model_module_version": "1.5.0",
     "model_name": "ProgressStyleModel",
     "state": {
      "_model_module": "@jupyter-widgets/controls",
      "_model_module_version": "1.5.0",
      "_model_name": "ProgressStyleModel",
      "_view_count": null,
      "_view_module": "@jupyter-widgets/base",
      "_view_module_version": "1.2.0",
      "_view_name": "StyleView",
      "bar_color": null,
      "description_width": ""
     }
    },
    "f84c2a4f5401416fb635b40bdca0d031": {
     "model_module": "@jupyter-widgets/base",
     "model_module_version": "1.2.0",
     "model_name": "LayoutModel",
     "state": {
      "_model_module": "@jupyter-widgets/base",
      "_model_module_version": "1.2.0",
      "_model_name": "LayoutModel",
      "_view_count": null,
      "_view_module": "@jupyter-widgets/base",
      "_view_module_version": "1.2.0",
      "_view_name": "LayoutView",
      "align_content": null,
      "align_items": null,
      "align_self": null,
      "border": null,
      "bottom": null,
      "display": null,
      "flex": null,
      "flex_flow": null,
      "grid_area": null,
      "grid_auto_columns": null,
      "grid_auto_flow": null,
      "grid_auto_rows": null,
      "grid_column": null,
      "grid_gap": null,
      "grid_row": null,
      "grid_template_areas": null,
      "grid_template_columns": null,
      "grid_template_rows": null,
      "height": null,
      "justify_content": null,
      "justify_items": null,
      "left": null,
      "margin": null,
      "max_height": null,
      "max_width": null,
      "min_height": null,
      "min_width": null,
      "object_fit": null,
      "object_position": null,
      "order": null,
      "overflow": null,
      "overflow_x": null,
      "overflow_y": null,
      "padding": null,
      "right": null,
      "top": null,
      "visibility": null,
      "width": null
     }
    }
   }
  }
 },
 "nbformat": 4,
 "nbformat_minor": 1
}
